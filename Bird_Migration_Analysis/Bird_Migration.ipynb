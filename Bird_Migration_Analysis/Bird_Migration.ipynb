{
  "cells": [
    {
      "cell_type": "markdown",
      "metadata": {
        "id": "view-in-github",
        "colab_type": "text"
      },
      "source": [
        "<a href=\"https://colab.research.google.com/github/Sivaram-G97/Python_Projects/blob/main/Bird_Migration_Analysis/Bird_Migration.ipynb\" target=\"_parent\"><img src=\"https://colab.research.google.com/assets/colab-badge.svg\" alt=\"Open In Colab\"/></a>"
      ]
    },
    {
      "cell_type": "markdown",
      "source": [
        "# Import the necessary libraries\n"
      ],
      "metadata": {
        "id": "U5xZno4yvK6f"
      }
    },
    {
      "cell_type": "code",
      "execution_count": null,
      "metadata": {
        "id": "SIeKte8k0Ju3"
      },
      "outputs": [],
      "source": [
        "import pandas as pd\n",
        "import numpy as np\n",
        "import seaborn as sns\n",
        "import matplotlib.pyplot as plt\n",
        "from scipy.stats import chi2_contingency\n",
        "import statsmodels.formula.api as smf\n",
        "from statsmodels.stats.anova import anova_lm\n",
        "import geopandas as gpd\n",
        "from shapely.geometry import Point\n"
      ]
    },
    {
      "cell_type": "code",
      "execution_count": null,
      "metadata": {
        "id": "yyf1-bPdB9V_"
      },
      "outputs": [],
      "source": [
        "df = pd.read_excel('/content/Bird_Migration_data.xlsx')"
      ]
    },
    {
      "cell_type": "code",
      "execution_count": null,
      "metadata": {
        "id": "esbccTBdCRAZ"
      },
      "outputs": [],
      "source": [
        "df.head(5)"
      ]
    },
    {
      "cell_type": "code",
      "execution_count": null,
      "metadata": {
        "id": "R4emdIl2OgJ9"
      },
      "outputs": [],
      "source": [
        "df.info()"
      ]
    },
    {
      "cell_type": "code",
      "execution_count": null,
      "metadata": {
        "id": "gaE8OrgPOtlr"
      },
      "outputs": [],
      "source": [
        "df.describe()"
      ]
    },
    {
      "cell_type": "code",
      "execution_count": null,
      "metadata": {
        "id": "J5sn6vJZQwtS"
      },
      "outputs": [],
      "source": [
        "df.columns"
      ]
    },
    {
      "cell_type": "code",
      "execution_count": null,
      "metadata": {
        "id": "Q6CFHnkTeLML"
      },
      "outputs": [],
      "source": [
        "df.dtypes"
      ]
    },
    {
      "cell_type": "code",
      "execution_count": null,
      "metadata": {
        "id": "EePPCtYawKwf"
      },
      "outputs": [],
      "source": [
        "df.isnull().sum()"
      ]
    },
    {
      "cell_type": "markdown",
      "metadata": {
        "id": "Ps53kbXk7eIN"
      },
      "source": [
        "#Handling Missing Values\n",
        "\n",
        "# --- Imputing missing 'Interrupted_Reason' based on group consistency ---\n",
        "\n",
        "* To facilitate group-based imputation, we will first round the 'Start_Latitude' and 'Start_Longitude' to two decimal places. This effectively groups locations within a roughly 10km radius.\n",
        "\n",
        "* We will group the bird migration data by 'Species', 'Start_Latitude', 'Start_Longitude', and 'Migration_Start_Month'. The goal is to leverage instances where at least one bird within such a specific group has a recorded 'Interrupted_Reason'.\n",
        "\n",
        "* If we find a reason, we will propagate that same reason to all other birds in the same group with missing 'Interrupted_Reason'.\n",
        "\n",
        "* The underlying assumption is that birds sharing these characteristics (species, starting point, and migration start time) are more likely to experience the same causes for migration interruption.\n",
        "\n",
        "* Before attempting the imputation, we will first verify if it's feasible by checking if each group contains at least one non-null 'Interrupted_Reason' value."
      ]
    },
    {
      "cell_type": "code",
      "execution_count": null,
      "metadata": {
        "id": "21BkhyiP7goz"
      },
      "outputs": [],
      "source": [
        "missing_reason_df = df[df['Interrupted_Reason'].isnull()]"
      ]
    },
    {
      "cell_type": "code",
      "execution_count": null,
      "metadata": {
        "id": "Jgo-94eQ9QdC"
      },
      "outputs": [],
      "source": [
        "df_copy = df.copy()"
      ]
    },
    {
      "cell_type": "code",
      "execution_count": null,
      "metadata": {
        "id": "n7vAQKAXGGvB"
      },
      "outputs": [],
      "source": [
        "df_copy['Start_Latitude'] = df_copy['Start_Latitude'].round(1)\n",
        "df_copy['Start_Longitude'] = df_copy['Start_Longitude'].round(1)"
      ]
    },
    {
      "cell_type": "code",
      "execution_count": null,
      "metadata": {
        "id": "aGANqUsRGqv3"
      },
      "outputs": [],
      "source": [
        "df_copy['Start_Longitude'].head(10)"
      ]
    },
    {
      "cell_type": "code",
      "execution_count": null,
      "metadata": {
        "id": "OFTqq1lmG3I2"
      },
      "outputs": [],
      "source": [
        "len(df_copy['Start_Longitude'].unique())\n"
      ]
    },
    {
      "cell_type": "code",
      "execution_count": null,
      "metadata": {
        "id": "GIjfvt33P7Ap"
      },
      "outputs": [],
      "source": [
        "len(df_copy['Start_Latitude'].unique())"
      ]
    },
    {
      "cell_type": "markdown",
      "metadata": {
        "id": "a_1bu8gbrocU"
      },
      "source": [
        "\n"
      ]
    },
    {
      "cell_type": "code",
      "execution_count": null,
      "metadata": {
        "id": "F--LMj7WBYbp"
      },
      "outputs": [],
      "source": [
        "grouping_cols = ['Species', 'Start_Latitude', 'Start_Longitude', 'Migration_Start_Month']\n",
        "reason_col = 'Interrupted_Reason'\n",
        "\n",
        "grouped = df_copy.groupby(grouping_cols)"
      ]
    },
    {
      "cell_type": "code",
      "execution_count": null,
      "metadata": {
        "id": "aVOldEk5BptX"
      },
      "outputs": [],
      "source": [
        "def can_impute_simple(group):\n",
        "    has_non_null = group[reason_col].notna().any()\n",
        "    has_null = group[reason_col].isnull().any()\n",
        "    return has_non_null and has_null"
      ]
    },
    {
      "cell_type": "code",
      "execution_count": null,
      "metadata": {
        "id": "KdakJBtZBvXP"
      },
      "outputs": [],
      "source": [
        "imputation_possible = grouped.apply(can_impute_simple).any()\n"
      ]
    },
    {
      "cell_type": "code",
      "execution_count": null,
      "metadata": {
        "id": "r3uoX-GtB1p5"
      },
      "outputs": [],
      "source": [
        "print(imputation_possible)"
      ]
    },
    {
      "cell_type": "markdown",
      "metadata": {
        "id": "01Sz9ucaC6Oq"
      },
      "source": [
        "Now it's evident that imputation isn't possible\n"
      ]
    },
    {
      "cell_type": "markdown",
      "metadata": {
        "id": "KmrSDm61EgZW"
      },
      "source": [
        "# Univariate Analysis\n",
        "## Checking for Outliers and spread\n"
      ]
    },
    {
      "cell_type": "code",
      "execution_count": null,
      "metadata": {
        "id": "G8UyUcmrExz9"
      },
      "outputs": [],
      "source": [
        "df['Flight_Distance_km'].hist(bins=25)\n",
        "plt.xlabel('Avg Flight Distance (km)')\n",
        "plt.ylabel('Frequency')\n",
        "plt.title('Distribution of Flight Distances')"
      ]
    },
    {
      "cell_type": "code",
      "execution_count": null,
      "metadata": {
        "id": "W4qKF8XMI7F0"
      },
      "outputs": [],
      "source": [
        "df['Flight_Duration_hours'].hist(bins=25)\n",
        "plt.xlabel('Avg Flight hours')\n",
        "plt.ylabel('Frequency')\n",
        "plt.title('Distribution of Flight hours')"
      ]
    },
    {
      "cell_type": "code",
      "execution_count": null,
      "metadata": {
        "id": "K5SIJdeVJZy1"
      },
      "outputs": [],
      "source": [
        "sns.kdeplot(df['Average_Speed_kmph'])\n",
        "plt.xlabel('Average Speed (kmph)')\n",
        "plt.ylabel('Frequency')\n",
        "plt.title('Distribution of Average Speed')"
      ]
    },
    {
      "cell_type": "code",
      "execution_count": null,
      "metadata": {
        "id": "8yD9uoS6JrQA"
      },
      "outputs": [],
      "source": [
        "altitude_data = df[['Max_Altitude_m', 'Min_Altitude_m']].melt(var_name = 'Altitude_Type', value_name = 'Altitude')"
      ]
    },
    {
      "cell_type": "code",
      "source": [
        "sns.boxplot(x = 'Altitude_Type', y = 'Altitude', data = altitude_data)\n",
        "plt.xlabel('Altitude Type')\n",
        "plt.ylabel('Altitude')\n",
        "plt.title('Distribution of Altitude')"
      ],
      "metadata": {
        "id": "bDxz1puIb7La"
      },
      "execution_count": null,
      "outputs": []
    },
    {
      "cell_type": "code",
      "source": [
        "sns.kdeplot(df['Temperature_C'])\n",
        "plt.xlabel('Temperature (C)')\n",
        "plt.ylabel('Frequency')\n",
        "plt.title('Distribution of Temperature')"
      ],
      "metadata": {
        "id": "KdKafXsYdcaD"
      },
      "execution_count": null,
      "outputs": []
    },
    {
      "cell_type": "code",
      "source": [
        "sns.kdeplot(df['Wind_Speed_kmph'])\n",
        "plt.xlabel('Wind Speed (kmph)')\n",
        "plt.ylabel('Frequency')\n",
        "plt.title('Distribution of Wind Speed')"
      ],
      "metadata": {
        "id": "-U1JYx3LlORI"
      },
      "execution_count": null,
      "outputs": []
    },
    {
      "cell_type": "code",
      "source": [
        "sns.kdeplot(df['Humidity_%'])\n",
        "plt.xlabel('Humidity (%)')\n",
        "plt.ylabel('Frequency')\n",
        "plt.title('Distribution of Humidity')"
      ],
      "metadata": {
        "id": "1Cf_YrJqlljh"
      },
      "execution_count": null,
      "outputs": []
    },
    {
      "cell_type": "code",
      "source": [
        "sns.kdeplot(df['Pressure_hPa'])\n",
        "plt.xlabel('Pressure (hPa)')\n",
        "plt.ylabel('Frequency')\n",
        "plt.title('Distribution of Pressure')"
      ],
      "metadata": {
        "id": "zJ0stIUsy9AD"
      },
      "execution_count": null,
      "outputs": []
    },
    {
      "cell_type": "code",
      "source": [
        "sns.kdeplot(df['Visibility_km'])\n",
        "plt.xlabel('Visibility (Kms)')\n",
        "plt.ylabel('Frequency')\n",
        "plt.title('Distribution of Visibility')"
      ],
      "metadata": {
        "id": "Vy-Z6wcPVx3C"
      },
      "execution_count": null,
      "outputs": []
    },
    {
      "cell_type": "code",
      "source": [
        "sns.countplot(x = 'Species', data = df)\n",
        "plt.xlabel('Species')\n",
        "plt.ylabel('Frequency')\n",
        "plt.title('Distribution of Species')"
      ],
      "metadata": {
        "id": "lRm2C6yBN2Sc"
      },
      "execution_count": null,
      "outputs": []
    },
    {
      "cell_type": "code",
      "source": [
        "sns.countplot(x='Region', data = df)\n",
        "plt.xlabel('Region')\n",
        "plt.ylabel('Frequency')\n",
        "plt.title('Distribution of Region')"
      ],
      "metadata": {
        "id": "B4K_bTivd5O1"
      },
      "execution_count": null,
      "outputs": []
    },
    {
      "cell_type": "code",
      "source": [
        "sns.countplot(x = 'Habitat', data = df)\n",
        "plt.xlabel('Habitat')\n",
        "plt.ylabel('Frequency')\n",
        "plt.title('Distribution of Habitat')"
      ],
      "metadata": {
        "id": "SV-qUwIYt6Uy"
      },
      "execution_count": null,
      "outputs": []
    },
    {
      "cell_type": "code",
      "source": [
        "sns.countplot(x = 'Weather_Condition', data = df)\n",
        "plt.xlabel('Weather Condition')\n",
        "plt.ylabel('Frequency')\n",
        "plt.title('Distribution of Weather Condition')"
      ],
      "metadata": {
        "id": "eCAbcmbQupMI"
      },
      "execution_count": null,
      "outputs": []
    },
    {
      "cell_type": "code",
      "source": [
        "sns.countplot(x = 'Migration_Reason', data = df)\n",
        "plt.xlabel('Migration Reason')\n",
        "plt.ylabel('Frequency')\n",
        "plt.title('Distribution of Migration Reason')"
      ],
      "metadata": {
        "id": "7mr2GIy0u6Ww"
      },
      "execution_count": null,
      "outputs": []
    },
    {
      "cell_type": "code",
      "source": [
        "df.columns"
      ],
      "metadata": {
        "id": "oBVhY3rXQQ34"
      },
      "execution_count": null,
      "outputs": []
    },
    {
      "cell_type": "code",
      "source": [
        "sns.countplot(x = 'Migration_End_Month', data = df)\n",
        "plt.xlabel('Migration End Month')\n",
        "plt.ylabel('Frequency')\n",
        "plt.title('Distribution of Migration End Month')"
      ],
      "metadata": {
        "id": "cav8WTnCTZHb"
      },
      "execution_count": null,
      "outputs": []
    },
    {
      "cell_type": "code",
      "source": [
        "sns.countplot(x = 'Migration_Start_Month', data = df)\n",
        "plt.xlabel('Migration Start Month')\n",
        "plt.ylabel('Frequency')\n",
        "plt.title('Distribution of Migration Start Month')"
      ],
      "metadata": {
        "id": "gdSMx5qDQmUd"
      },
      "execution_count": null,
      "outputs": []
    },
    {
      "cell_type": "markdown",
      "source": [
        "The univariate analysis conducted on the numerical columns **('Flight_Distance_Km', 'Flight_Duration_hours', 'Average_Speed_kmph', 'Max_Altitude_m', 'Min_Altitude_m', 'Temperature_C', 'Wind_Speed_kmph', 'Humidity_%', 'Pressure_hPa', 'Visibility_km')** reveals a lack of significant outliers and minimal skewness in their distributions. Similarly, the categorical columns **('Species', 'Region', 'Habitat', 'Weather_Condition', 'Migration_Reason')** show the frequency of each category."
      ],
      "metadata": {
        "id": "ZspuqJ-bLYfO"
      }
    },
    {
      "cell_type": "markdown",
      "source": [
        "## Findings from Univariate Analysis:\n",
        "\n",
        "* The Typical flight distance of the birds is between 2000 kms - 3000 kms\n",
        "\n",
        "* Most birds have a flight hour between 35 hrs to 65 hrs\n",
        "\n",
        "* The peak migration periods appear to be:\n",
        "\n",
        "    * Starts: Primarily around March, with significant activity also in January, October, November, and February.\n",
        "\n",
        "    * Ends: Primarily around April and November, with considerable activity also in March and December."
      ],
      "metadata": {
        "id": "86UoL01VRuaa"
      }
    },
    {
      "cell_type": "markdown",
      "source": [
        "# Other Considerations\n"
      ],
      "metadata": {
        "id": "fT6ivbMFLgWW"
      }
    },
    {
      "cell_type": "markdown",
      "source": [
        "Here, We're going to consider the following as the 'Interrupted_Reason' being present alongside 'Migration_Success' as 'Successful',\n",
        "\n",
        "* **Temporary Interruption:** The recorded interruption (e.g., storm, minor injury, lost signal) might have been temporary, allowing the bird to resume and successfully complete its migration.\n",
        "\n",
        "* **Partial Migration Success:** 'Migration_Success' might be defined based on reaching a general destination or breeding grounds, even if a part of the journey experienced an interruption.\n"
      ],
      "metadata": {
        "id": "ffp1qNOLIMOT"
      }
    },
    {
      "cell_type": "code",
      "source": [
        "df[['Interrupted_Reason' ,'Migration_Success']].head(15)"
      ],
      "metadata": {
        "id": "vW_n8c-ovJMz"
      },
      "execution_count": null,
      "outputs": []
    },
    {
      "cell_type": "markdown",
      "source": [
        "# Question 1:\n",
        "\n",
        "## Do certain species migrate in larger flocks?"
      ],
      "metadata": {
        "id": "oYfPnAZcJuvc"
      }
    },
    {
      "cell_type": "code",
      "source": [
        "df[['Migrated_in_Flock', 'Species', 'Flock_Size']].head(15)"
      ],
      "metadata": {
        "id": "8ACzhr3LT4Go"
      },
      "execution_count": null,
      "outputs": []
    },
    {
      "cell_type": "markdown",
      "source": [
        "## Considerations\n",
        "###  **Note on 'Migrated_in_Flock' and 'Flock_Size':** Although 'Migrated_in_Flock' might be marked as 'No', the 'Flock_Size' column contains values other than zero. As its a synthetic data we take the following into considerations\n",
        "\n",
        "* **Individual Tracking within a Flock:** Even if the overall Migrated_in_Flock is marked as 'No' for a specific bird, the Flock_Size might still represent the size of a flock it was observed with at some point during its migration, even if it wasn't considered to be actively migrating as part of that flock for the entire journey.\n",
        "\n",
        "* **Initial or Final Observation:** The Flock_Size recorded might be the size of a group the bird was seen with at the beginning of its migration before separating, or at the end when joining others at a destination. The 'Migrated_in_Flock' status might refer to the majority of the migration journey.\n",
        "\n",
        "* **\"No\" Meaning \"Not Primarily in a Flock\":** The 'No' in Migrated_in_Flock might not strictly mean the bird was entirely alone for its entire migration. It could indicate that its primary mode of migration was solitary, even if it occasionally encountered or briefly traveled with other birds. The Flock_Size might capture these instances."
      ],
      "metadata": {
        "id": "KFvlcxsGT6b0"
      }
    },
    {
      "cell_type": "code",
      "source": [
        "df.groupby(['Migrated_in_Flock', 'Species'])['Flock_Size'].count()"
      ],
      "metadata": {
        "id": "tsXoGbzEHEif"
      },
      "execution_count": null,
      "outputs": []
    },
    {
      "cell_type": "code",
      "source": [
        "Migrated_in_Flock_df = df[df['Migrated_in_Flock'] == 'Yes']"
      ],
      "metadata": {
        "id": "DHPqc4L2LFbX"
      },
      "execution_count": null,
      "outputs": []
    },
    {
      "cell_type": "code",
      "source": [
        "sns.kdeplot(x = 'Flock_Size', hue = 'Species', data = Migrated_in_Flock_df)\n",
        "plt.xlabel('Flock Size')\n",
        "plt.ylabel('Frequency')"
      ],
      "metadata": {
        "id": "zKaBfZWJXM1h"
      },
      "execution_count": null,
      "outputs": []
    },
    {
      "cell_type": "markdown",
      "source": [
        "## Findings:\n",
        "\n",
        "* Geese display a clear peak in the larger flock size range (around 350-500), suggesting that when Geese migrate in flocks, they typically form larger groups compared to most other species in this selection."
      ],
      "metadata": {
        "id": "XzTwhIBPYZ-2"
      }
    },
    {
      "cell_type": "code",
      "source": [
        "df['Migrated_in_Flock'].value_counts()"
      ],
      "metadata": {
        "id": "XZuTGA2dNj-W"
      },
      "execution_count": null,
      "outputs": []
    },
    {
      "cell_type": "code",
      "source": [],
      "metadata": {
        "id": "8FyeoqqWShwy"
      },
      "execution_count": null,
      "outputs": []
    },
    {
      "cell_type": "markdown",
      "source": [
        "# Question 2:\n",
        "\n",
        "## How does weather impact nesting success?"
      ],
      "metadata": {
        "id": "ct59YQp-RB2s"
      }
    },
    {
      "cell_type": "markdown",
      "source": [
        "## Chi - Squared Test"
      ],
      "metadata": {
        "id": "3osILFadWyWW"
      }
    },
    {
      "cell_type": "code",
      "source": [
        "contingency_table = pd.crosstab(df['Weather_Condition'], df['Nesting_Success'])"
      ],
      "metadata": {
        "id": "ZuUY5yGMW0qb"
      },
      "execution_count": null,
      "outputs": []
    },
    {
      "cell_type": "code",
      "source": [
        "print(contingency_table)"
      ],
      "metadata": {
        "id": "yZhyrXCHhGH9"
      },
      "execution_count": null,
      "outputs": []
    },
    {
      "cell_type": "code",
      "source": [
        "Chi2, p_value, dof, expected = chi2_contingency(contingency_table)"
      ],
      "metadata": {
        "id": "GAaLyh-HhSy6"
      },
      "execution_count": null,
      "outputs": []
    },
    {
      "cell_type": "code",
      "source": [
        "print('Chi - Sqared Statistic:', Chi2)\n",
        "print('P-Value:', p_value)\n",
        "print('Degrees of Freedom:', dof)\n",
        "print('Expected Frequency:', expected)"
      ],
      "metadata": {
        "id": "beekHfGRixY-"
      },
      "execution_count": null,
      "outputs": []
    },
    {
      "cell_type": "code",
      "source": [
        "alpha = 0.05\n",
        "if p_value < alpha:\n",
        "    print(\"\\nThe association between Weather Condition and Nesting Success is statistically significant (p < 0.05).\")\n",
        "else:\n",
        "    print(\"\\nThere is no statistically significant association between Weather_Condition and Nesting_Success (p >= 0.05).\")"
      ],
      "metadata": {
        "id": "HMi9WORDjioM"
      },
      "execution_count": null,
      "outputs": []
    },
    {
      "cell_type": "markdown",
      "source": [
        "## ANOVA"
      ],
      "metadata": {
        "id": "L_t0Lc4Jv2pq"
      }
    },
    {
      "cell_type": "code",
      "source": [
        "numerical_weather = ['Temperature_C', 'Wind_Speed_kmph', 'Humidity_Percent', 'Pressure_hPa', 'Visibility_km']"
      ],
      "metadata": {
        "id": "5VSZiLcgv2Z_"
      },
      "execution_count": null,
      "outputs": []
    },
    {
      "cell_type": "code",
      "source": [
        "df.columns"
      ],
      "metadata": {
        "id": "dhrEBmYByGhO"
      },
      "execution_count": null,
      "outputs": []
    },
    {
      "cell_type": "code",
      "source": [
        "df.rename(columns={'Humidity_%': 'Humidity_Percent'}, inplace=True) #stats model might not work properly with special characters"
      ],
      "metadata": {
        "id": "6f2CzH8_yMzt"
      },
      "execution_count": null,
      "outputs": []
    },
    {
      "cell_type": "code",
      "source": [
        "for col in numerical_weather:\n",
        "    print(f\"\\nANOVA for {col} vs. Nesting Success:\")\n",
        "    formula = f'{col} ~ C(Nesting_Success)'\n",
        "    model = smf.ols(formula, data=df).fit()\n",
        "    anova_table = anova_lm(model)\n",
        "    print(anova_table)"
      ],
      "metadata": {
        "id": "d_IWVe7cwJGB"
      },
      "execution_count": null,
      "outputs": []
    },
    {
      "cell_type": "markdown",
      "source": [
        "## **Findings**:\n",
        "\n",
        "### **Findings from Chi-Squared Test (Categorical Weather Condition):**\n",
        "\n",
        "The Chi-squared test between 'Weather_Condition' and 'Nesting_Success' yielded a p-value of 0.2545. This p-value is greater than the common significance level of 0.05. Therefore, we fail to reject the null hypothesis.\n",
        "\n",
        "This indicates that there is no statistically significant association between the categorical weather condition (Clear, Foggy, Rainy, Stormy, Windy) and nesting success in your dataset. The observed distribution of successful and unsuccessful nests across the different weather conditions is not significantly different from what we would expect if there were no relationship between them.\n",
        "\n",
        "### **Findings from ANOVA (Numerical Weather Variables):**\n",
        "Based on these ANOVA results, for each of the numerical weather variables tested individually, there is no statistically significant evidence to suggest that the mean weather condition was different for successful nesting events compared to unsuccessful nesting events in the dataset. As the p-value is higher than 0.05.\n",
        "\n",
        "There is no strong statistical evidence to conclude that weather, as represented by these variables, has a significant impact on nesting success."
      ],
      "metadata": {
        "id": "RbtDzj8Cz6SS"
      }
    },
    {
      "cell_type": "markdown",
      "source": [
        "# Question 3:\n",
        "\n",
        "### What conditions lead to migration interruptions?"
      ],
      "metadata": {
        "id": "xvtqznf1RT2r"
      }
    },
    {
      "cell_type": "code",
      "source": [
        "df[df['Migration_Interrupted'] == 'Yes']['Interrupted_Reason'].value_counts()"
      ],
      "metadata": {
        "id": "DqrlQ1ffkgn6"
      },
      "execution_count": null,
      "outputs": []
    },
    {
      "cell_type": "markdown",
      "source": [
        "## Findings:\n",
        "\n",
        "In summary, based on this data, the primary conditions leading to recorded migration interruptions appear to be adverse weather (storms), physical injury to the birds, and encounters with predators. Loss of tracking signal is also noted as a reason, but less frequently than the other three."
      ],
      "metadata": {
        "id": "c7zwEfrZpC70"
      }
    },
    {
      "cell_type": "markdown",
      "source": [
        "# Geospatial Analysis"
      ],
      "metadata": {
        "id": "vFwdwBRIrZDe"
      }
    },
    {
      "cell_type": "code",
      "source": [
        "geometry_start = [Point(xy) for xy in zip(df['Start_Longitude'], df['Start_Latitude'])]\n",
        "gdf_start = gpd.GeoDataFrame(df, geometry=geometry_start, crs=\"EPSG:4326\")"
      ],
      "metadata": {
        "id": "uf4jwbk5rgog"
      },
      "execution_count": null,
      "outputs": []
    },
    {
      "cell_type": "code",
      "source": [
        "geometry_end = [Point(xy) for xy in zip(df['End_Longitude'], df['End_Latitude'])]\n",
        "gdf_end = gpd.GeoDataFrame(df, geometry=geometry_end, crs=\"EPSG:4326\")"
      ],
      "metadata": {
        "id": "zw0RD5sBrz6t"
      },
      "execution_count": null,
      "outputs": []
    },
    {
      "cell_type": "code",
      "source": [
        "fig, ax = plt.subplots(1, 1, figsize=(10, 10))\n",
        "\n",
        "gdf_start.plot(ax=ax, marker='o', color='blue', markersize=1, alpha=0.3, label='Start Locations')\n",
        "gdf_end.plot(ax=ax, marker='x', color='red', markersize=1, alpha=0.3, label='End Locations')\n",
        "\n",
        "ax.set_xlabel(\"Longitude\")\n",
        "ax.set_ylabel(\"Latitude\")\n",
        "ax.set_title(\"Start and End Locations (Reduced Size & Transparency)\")\n",
        "ax.legend(loc='upper right')\n",
        "plt.show()"
      ],
      "metadata": {
        "id": "fn13jM2qsAc2"
      },
      "execution_count": null,
      "outputs": []
    }
  ],
  "metadata": {
    "colab": {
      "provenance": [],
      "toc_visible": true,
      "include_colab_link": true
    },
    "kernelspec": {
      "display_name": "Python 3",
      "name": "python3"
    },
    "language_info": {
      "name": "python"
    }
  },
  "nbformat": 4,
  "nbformat_minor": 0
}